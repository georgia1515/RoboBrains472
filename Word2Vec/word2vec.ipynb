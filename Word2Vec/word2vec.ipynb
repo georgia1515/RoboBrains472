{
 "cells": [
  {
   "cell_type": "code",
   "execution_count": 1,
   "metadata": {},
   "outputs": [],
   "source": [
    "import pandas as pd\n",
    "import gensim.downloader as api\n",
    "import csv\n",
    "import random"
   ]
  },
  {
   "cell_type": "markdown",
   "metadata": {},
   "source": [
    "### Task 1 - Evaluation of the word2vec-google-news-300 Pre-trained Model"
   ]
  },
  {
   "cell_type": "code",
   "execution_count": 2,
   "metadata": {},
   "outputs": [],
   "source": [
    "# Word2Vec gooogle news model\n",
    "wv = api.load('word2vec-google-news-300')\n",
    "model_name_1 = 'word2vec-google-news-300.csv'"
   ]
  },
  {
   "cell_type": "code",
   "execution_count": 3,
   "metadata": {},
   "outputs": [],
   "source": [
    "# Get dataset\n",
    "df = pd.read_csv('synonym.csv')\n",
    "questions = df['question'].tolist()\n",
    "answers = df['answer'].tolist()\n",
    "\n",
    "choice1 = df['0'].tolist()\n",
    "choice2 = df['1'].tolist()\n",
    "choice3 = df['2'].tolist()\n",
    "choice4 = df['3'].tolist()"
   ]
  },
  {
   "cell_type": "markdown",
   "metadata": {},
   "source": [
    "#### 1. Guessing"
   ]
  },
  {
   "cell_type": "code",
   "execution_count": 7,
   "metadata": {},
   "outputs": [],
   "source": [
    "# Model guessing the correct answers\n",
    "def select_answer(guess, choice1, choice2, choice3, choice4):\n",
    "    choices = [choice1, choice2, choice3, choice4]\n",
    "    choice1_similarity = wv.similarity(guess, choice1)\n",
    "    choice2_similarity = wv.similarity(guess, choice2)\n",
    "    choice3_similarity = wv.similarity(guess, choice3)\n",
    "    choice4_similarity = wv.similarity(guess, choice4)\n",
    "    similarity = [choice1_similarity, choice2_similarity, choice3_similarity, choice4_similarity]\n",
    "    \n",
    "    answer = similarity.index(max(similarity))\n",
    "    final_choice = choices[answer]\n",
    "    return final_choice\n",
    "\n",
    "def random_guess(choice1, choice2, choice3, choice4):\n",
    "    choices = [choice1, choice2, choice3, choice4]\n",
    "    return choices[random.randint(0,3)]\n",
    "\n",
    "with open(model_name_1, 'w+') as f:\n",
    "    writer = csv.writer(f)\n",
    "    field = ['question', 'answer', 'guess', 'label']\n",
    "    writer.writerow(field)\n",
    "\n",
    "correct_guesses_google300 = 0\n",
    "random_guesses_google300 = 0\n",
    "\n",
    "for i in range(len(questions)):\n",
    "    question = questions[i]\n",
    "    answer = answers[i]\n",
    "    # guess = wv.most_similar(question)[0][0]\n",
    "    # print(question, answer, guess)\n",
    "    if question in wv:\n",
    "        guess = wv.most_similar(question)[0][0]\n",
    "        choice = select_answer(guess, choice1[i], choice2[i], choice3[i], choice4[i])\n",
    "        if choice == answer:\n",
    "            correct_guesses_google300 += 1\n",
    "            label = 'correct'\n",
    "        else:\n",
    "            label = 'wrong'\n",
    "    else: \n",
    "        choice = random_guess(choice1[i], choice2[i], choice3[i], choice4[i])\n",
    "        random_guesses_google300 += 1\n",
    "        label = 'guess'\n",
    "    \n",
    "    with open(model_name_1, 'a') as f:\n",
    "        writer = csv.writer(f)\n",
    "        row = [question, answer, choice, label]\n",
    "        writer.writerow(row)"
   ]
  },
  {
   "cell_type": "markdown",
   "metadata": {},
   "source": [
    "#### 2. Analysis"
   ]
  },
  {
   "cell_type": "code",
   "execution_count": 20,
   "metadata": {},
   "outputs": [],
   "source": [
    "# Analysis\n",
    "with open('analysis.csv', 'w+') as f:\n",
    "    writer = csv.writer(f)\n",
    "    field = ['model_name', 'size_of_vocab', 'number_of_correct', 'number_of_non_random_guess', 'accuracy']\n",
    "    writer.writerow(field)\n",
    "\n",
    "# Word2Vec google news 300 model\n",
    "model_name_google300 = 'word2vec-google-news-300'\n",
    "size_of_vocab_google300 = len(wv.key_to_index)\n",
    "number_of_correct_google300 = correct_guesses_google300\n",
    "number_of_non_random_guess = len(questions) - random_guesses_google300\n",
    "accuracy_google300 = correct_guesses_google300 / number_of_non_random_guess\n",
    "\n",
    "with open('analysis.csv', 'a') as f:\n",
    "    writer = csv.writer(f)\n",
    "    row = [model_name_google300, size_of_vocab_google300, number_of_correct_google300, number_of_non_random_guess, accuracy_google300]\n",
    "    writer.writerow(row)"
   ]
  },
  {
   "cell_type": "markdown",
   "metadata": {},
   "source": [
    "### Task 2 - Comparison with other pre-trained models"
   ]
  },
  {
   "cell_type": "markdown",
   "metadata": {},
   "source": [
    "### Task 3 - Train own models"
   ]
  }
 ],
 "metadata": {
  "kernelspec": {
   "display_name": "Python 3",
   "language": "python",
   "name": "python3"
  },
  "language_info": {
   "codemirror_mode": {
    "name": "ipython",
    "version": 3
   },
   "file_extension": ".py",
   "mimetype": "text/x-python",
   "name": "python",
   "nbconvert_exporter": "python",
   "pygments_lexer": "ipython3",
   "version": "3.11.0"
  }
 },
 "nbformat": 4,
 "nbformat_minor": 2
}
