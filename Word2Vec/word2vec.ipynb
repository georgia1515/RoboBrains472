{
 "cells": [
  {
   "cell_type": "code",
   "execution_count": 3,
   "metadata": {},
   "outputs": [],
   "source": [
    "import pandas as pd\n",
    "import gensim.downloader as api\n",
    "import csv"
   ]
  },
  {
   "cell_type": "markdown",
   "metadata": {},
   "source": [
    "### Task 1 - Evaluation of the word2vec-google-news-300 Pre-trained Model"
   ]
  },
  {
   "cell_type": "code",
   "execution_count": 4,
   "metadata": {},
   "outputs": [],
   "source": [
    "# Word2Vec gooogle news model\n",
    "wv = api.load('word2vec-google-news-300')\n",
    "model_name_1 = 'word2vec-google-news-300.csv'\n",
    "\n",
    "with open(model_name_1, 'w+') as f:\n",
    "    writer = csv.writer(f)\n",
    "    field = ['question', 'answer', 'guess', 'label']\n",
    "    writer.writerow(field)"
   ]
  },
  {
   "cell_type": "code",
   "execution_count": 5,
   "metadata": {},
   "outputs": [],
   "source": [
    "# Get dataset\n",
    "df = pd.read_csv('synonym.csv')\n",
    "questions = df['question'].tolist()\n",
    "answers = df['answer'].tolist()\n",
    "\n",
    "answer1 = df['0'].tolist()\n",
    "answer2 = df['1'].tolist()\n",
    "answer3 = df['2'].tolist()\n",
    "answer4 = df['3'].tolist()"
   ]
  },
  {
   "cell_type": "code",
   "execution_count": 6,
   "metadata": {},
   "outputs": [
    {
     "name": "stdout",
     "output_type": "stream",
     "text": [
      "immensely\n",
      "provision\n",
      "haphazard\n",
      "influential\n",
      "apogee\n",
      "deeply_flawed\n",
      "urgent\n",
      "consume\n",
      "introduction\n",
      "succinctly\n",
      "salute\n",
      "lonely\n",
      "hastened\n",
      "tenacity\n",
      "fantastical\n",
      "showing\n",
      "continually\n",
      "issue\n",
      "furnished\n",
      "expensive\n",
      "Recognized\n",
      "spots\n",
      "making\n",
      "sometimes\n",
      "affable\n",
      "debates\n",
      "Narrow\n",
      "arrange\n",
      "limitless\n"
     ]
    },
    {
     "ename": "",
     "evalue": "",
     "output_type": "error",
     "traceback": [
      "\u001b[1;31mThe Kernel crashed while executing code in the the current cell or a previous cell. Please review the code in the cell(s) to identify a possible cause of the failure. Click <a href='https://aka.ms/vscodeJupyterKernelCrash'>here</a> for more info. View Jupyter <a href='command:jupyter.viewOutput'>log</a> for further details."
     ]
    }
   ],
   "source": [
    "# Get the vector representation of the word\n",
    "for i in range(len(questions)):\n",
    "    question = questions[i]\n",
    "    answer = answers[i]\n",
    "    guess = wv.most_similar(question)\n",
    "    print(guess[0][0])"
   ]
  },
  {
   "cell_type": "markdown",
   "metadata": {},
   "source": [
    "### Task 2 - Comparison with other pre-trained models"
   ]
  },
  {
   "cell_type": "markdown",
   "metadata": {},
   "source": [
    "### Task 3 - Train own models"
   ]
  }
 ],
 "metadata": {
  "kernelspec": {
   "display_name": "Python 3",
   "language": "python",
   "name": "python3"
  },
  "language_info": {
   "codemirror_mode": {
    "name": "ipython",
    "version": 3
   },
   "file_extension": ".py",
   "mimetype": "text/x-python",
   "name": "python",
   "nbconvert_exporter": "python",
   "pygments_lexer": "ipython3",
   "version": "3.11.0"
  }
 },
 "nbformat": 4,
 "nbformat_minor": 2
}
