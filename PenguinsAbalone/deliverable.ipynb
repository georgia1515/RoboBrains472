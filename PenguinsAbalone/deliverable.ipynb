{
 "cells": [
  {
   "cell_type": "markdown",
   "metadata": {},
   "source": [
    "# Assignment 1 - Experiments with Machine Learning\n",
    "Alice Chen\n",
    "Georgia Pitic\n",
    "Ryan Kim\n",
    "\n",
    "Path: deliverable.ipynb"
   ]
  },
  {
   "cell_type": "code",
   "execution_count": 15,
   "metadata": {},
   "outputs": [],
   "source": [
    "import pandas as pd\n",
    "import matplotlib.pyplot as plt\n",
    "import numpy as np\n",
    "from sklearn.model_selection import train_test_split\n",
    "from sklearn import tree"
   ]
  },
  {
   "cell_type": "markdown",
   "metadata": {},
   "source": [
    "### 1. Load Data"
   ]
  },
  {
   "cell_type": "code",
   "execution_count": null,
   "metadata": {},
   "outputs": [],
   "source": [
    "# a. methods of convertion\n",
    "# i. Convert dummy coded data\n",
    "\n",
    "dataAbalone = pd.read_csv('abalone.csv')\n",
    "dataPenguins = pd.read_csv('penguins.csv')\n",
    "dataPenguins = pd.get_dummies(dataPenguins, columns=['island', 'sex'])\n",
    "dataPenguins.to_csv('penguins_with_dummies.csv', index=False)\n",
    "\n",
    "dataPenguinsWithDummy = pd.read_csv('penguins_with_dummies.csv')\n",
    "# dataPenguins = pd.get_dummies(dataPenguins, columns=['island', 'sex'])\n",
    "# dataAbalone = pd.get_dummies(dataAbalone, columns=['Type'])  # doesn't work\n",
    "\n",
    "# ii. Convert categorical data\n",
    "# dataPenguins['island'] = pd.Categorical(dataPenguins['island'])\n",
    "# dataPenguins['sex'] = pd.Categorical(dataPenguins['sex'])\n",
    "# dataAbalone['Type'] = pd.Categorical(dataAbalone['Type'])\n",
    "\n",
    "# print(dataPenguins)\n",
    "# print(dataPenguinsWithDummy)\n"
   ]
  },
  {
   "cell_type": "markdown",
   "metadata": {},
   "source": [
    "### 2. Plot the percentages of each class"
   ]
  },
  {
   "cell_type": "code",
   "execution_count": null,
   "metadata": {},
   "outputs": [],
   "source": [
    "# Penguines plot percentage\n",
    "dataPenguinsPercentage = (dataPenguinsWithDummy['species'].value_counts(\n",
    "    normalize=True) / len(dataPenguinsWithDummy)) * 100\n",
    "\n",
    "dataPenguinsPercentage.plot(kind='bar')\n",
    "plt.title('Penguins Species Percentage')\n",
    "plt.xlabel('Species')\n",
    "plt.ylabel('Percentage')\n",
    "plt.savefig('penguinsPercentage.png')\n",
    "plt.show()"
   ]
  },
  {
   "cell_type": "code",
   "execution_count": null,
   "metadata": {},
   "outputs": [],
   "source": [
    "# Abalone plot percentage\n",
    "dataAbalonePercentage = (dataAbalone['Type'].value_counts(\n",
    "    normalize=True) / len(dataAbalone)) * 100\n",
    "\n",
    "dataAbalonePercentage.plot(kind='bar')\n",
    "plt.title('Abalone Sex Percentage')\n",
    "plt.xlabel('Sex')\n",
    "plt.ylabel('Percentage')\n",
    "plt.savefig('abalonePercentage.png')\n",
    "plt.show()"
   ]
  },
  {
   "cell_type": "markdown",
   "metadata": {},
   "source": [
    "### 3. Split dataset using train test split"
   ]
  },
  {
   "cell_type": "code",
   "execution_count": 38,
   "metadata": {},
   "outputs": [],
   "source": [
    "# a. Penguins\n",
    "X_penguins = dataPenguinsWithDummy.drop(['species'], axis=1)\n",
    "y_penguins = dataPenguinsWithDummy['species']\n",
    "X_penguinsTrain, X_penguinsTest, y_penguinsTrain, y_penguinsTest = train_test_split(X_penguins, y_penguins, test_size=0.2, random_state=0)\n",
    "\n",
    "# b. Abalone\n",
    "X_abalone = dataAbalone.drop(['Type'], axis=1)\n",
    "y_abalone = dataAbalone['Type']\n",
    "X_abaloneTrain, X_abaloneTest, y_abaloneTrain, y_abaloneTest = train_test_split(X_abalone, y_abalone, test_size=0.2, random_state=0)"
   ]
  },
  {
   "cell_type": "markdown",
   "metadata": {},
   "source": [
    "### 4. Train and test 4 different classifiers"
   ]
  },
  {
   "cell_type": "code",
   "execution_count": null,
   "metadata": {},
   "outputs": [],
   "source": [
    "# a. Base DT\n",
    "dtc_penguins = tree.DecisionTreeClassifier()\n",
    "dtc_abalone = tree.DecisionTreeClassifier(max_depth=4)\n",
    "\n",
    "# i. Penguines\n",
    "dtc_abalone.fit(X_abaloneTrain, y_abaloneTrain)\n",
    "tree.plot_tree(dtc_abalone)"
   ]
  },
  {
   "cell_type": "code",
   "execution_count": null,
   "metadata": {},
   "outputs": [],
   "source": [
    "# ii. Abalone\n",
    "dtc_abalone.fit(X_abaloneTrain, y_abaloneTrain)\n",
    "tree.plot_tree(dtc_abalone)"
   ]
  },
  {
   "cell_type": "code",
   "execution_count": null,
   "metadata": {},
   "outputs": [],
   "source": [
    "# b. TOP DT\n",
    "# i. Penguins\n",
    "\n",
    "# ii. Abalone\n"
   ]
  },
  {
   "cell_type": "code",
   "execution_count": null,
   "metadata": {},
   "outputs": [],
   "source": [
    "# c. BASE MLP\n",
    "# i. Penguins\n",
    "\n",
    "# ii. Abalone\n"
   ]
  },
  {
   "cell_type": "code",
   "execution_count": null,
   "metadata": {},
   "outputs": [],
   "source": [
    "# d. TOP MLP\n",
    "# i. Penguins\n",
    "\n",
    "# ii. Abalone\n"
   ]
  }
 ],
 "metadata": {
  "kernelspec": {
   "display_name": "Python 3",
   "language": "python",
   "name": "python3"
  },
  "language_info": {
   "codemirror_mode": {
    "name": "ipython",
    "version": 3
   },
   "file_extension": ".py",
   "mimetype": "text/x-python",
   "name": "python",
   "nbconvert_exporter": "python",
   "pygments_lexer": "ipython3",
   "version": "3.12.0"
  }
 },
 "nbformat": 4,
 "nbformat_minor": 2
}
